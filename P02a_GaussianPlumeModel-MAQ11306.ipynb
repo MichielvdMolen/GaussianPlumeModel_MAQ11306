{
 "cells": [
  {
   "cell_type": "markdown",
   "metadata": {},
   "source": [
    "# P02 The Gaussian Plume Model & BC\n",
    "\n",
    "#### Maarten Krol, Antonija Rimac & Michiel van der Molen (Version 1.2, August, 2020)\n",
    "\n",
    "The Gaussian Plume Model (GPM) is a widely used tool in air pollution applications. Basically, the model is used to estimate the downwind air pollution concentrations, given information about the pollutant emissions and the nature of the atmosphere. GPMs form the basis for permits that are granted to large facilities to emit \"smelly\" or toxic compounds. But GPMs also form the basis of the Dutch model OPS that calculates Nitrogen deposition on nature areas.\n",
    "\n",
    "Everybody knows plumes from stacks or fires. An example from a large industrial explosion is given in Figure 1.\n",
    "\n",
    "<br>\n",
    "<div align=center>\n",
    "<figure>\n",
    "  <img src=\"Breda.png\", width=\"400\" height=\"300\">\n",
    "  <figcaption> <i>Figure 1: A plume from an industrial explosion in Breda 2014</i></figcaption>\n",
    "</figure>\n",
    "</div>\n",
    "\n",
    "As can be seen in Figure 1, the dispersion of pollutants is strongly influenced by turbulence in the boundary layer. The goal of this practical is to better understand the GPM. Specifically we will:\n",
    "\n",
    "## P02a: The Gaussian Plume Model\n",
    "* Explain the mathematical formulation of the GPM\n",
    "* Investigate the influence of wind, source strength, and stack height\n",
    "* Determine concentrations downwind of a stack\n",
    "* Investigate the influence of the atmospheric stability\n",
    "* Extend the GPM with terms for ground reflection and line sources\n",
    "\n",
    "## P02b: Black Carbon Observations\n",
    "* Analyse a series of Black Carbon observations emitted by a line source of torches\n",
    "* Compare the observations with the Gaussian Plume Model\n",
    "* Invert the model to estimate the source strength\n",
    "* Compare the source strength with emissions by diesel vehicles"
   ]
  },
  {
   "cell_type": "markdown",
   "metadata": {},
   "source": [
    "### 1 The Basis of the GPM\n",
    "\n",
    "The GPM can be derived from the advection diffusion equation of a tracer. The basic concept is that concentrations downwind of a source spread laterally and vertically by turbulent motions in the atmospheric boundary layer. In a convective boundary, plumes will normally exhibit irregular behaviour, because of the strong turbulence and the large eddies that move the plume around. This can be observed in the movie below. The movie shows a result from a simulation of a plume in a slightly convective boundary layer (This is called a Large Eddy Simulation, courtesy: Chiel van Heerwaarden, MAQ). Note that we look at the plume from above, i.e., we look at the result plotted in xy-plane.\n",
    "\n",
    "<video controls width=\"80%\" src=\"movie_int.mp4\" />"
   ]
  },
  {
   "cell_type": "markdown",
   "metadata": {},
   "source": [
    "It is clear that we have to average over a certain time to get the stationary solution that forms the basis of the GPM. Typically, we need to average over at least 30 minutes. This also implies that if you measure the concentration downwind of a source, a single measurement does not always provide a reliable answer!\n",
    "The Gaussian plume model thus represents an **average situation**."
   ]
  },
  {
   "cell_type": "markdown",
   "metadata": {},
   "source": [
    "### 2 The Gaussian Distribution\n",
    "\n",
    "The (stationary) concentration distribution downwind of a plume is assumed to be Gaussian. Mathematically this distribution is described by:\n",
    "\n",
    "$$ f(x) = \\frac{1}{\\sigma \\sqrt{2\\pi}}{\\rm exp}\\Bigg(-\\frac{1}{2}\\left(\\frac{x-\\mu}{\\sigma}\\right)^2\\Bigg) \\;\\;\\;\\;\\;\\; (Eq. 1)$$\n",
    "\n",
    "where $\\mu$ is the mean value, and $\\sigma$ is the standard deviation. The Gaussian curve is a so-called probability density function, also called the **normal distribution**. The Gaussian distribution is normalized by $\\frac{1}{\\sigma \\sqrt{2\\pi}}$, such that the sum over all values of $x$ gives a probability of 1. "
   ]
  },
  {
   "cell_type": "markdown",
   "metadata": {},
   "source": [
    "### Exercise 2: Change in the normal distribution\n",
    "\n",
    "Before we start, please save the notebook under \n",
    "> File > save as.. > Gauss/*yourname*.ipynb\n",
    "\n",
    "To investigate the curve a bit more in detail, you can plot the Gaussian (normal) distribution by selecting the cell below (it will be highlighted) \n",
    "\n",
    "The first part of the program below is our calculation of the normal distribution. The second part presents the program in which you will change the mean and standard deviation to calculate and plot your own  normal distibution. But first, run the program (press **Shift-Enter** simultaneously in the selected cell below).\n",
    "\n",
    "The black line of the plotted figure is the Gaussian distribution. The green dotted line indicates the **mean** of the distribution. You can think of $x$ as the average length of a Wageningen student (e.g., 173 cm). The red and blue lines represent deviations from the mean by one and two standard deviations ($\\sigma$), respectively. The probablility to find a value of $x$ between the red lines is 68%. The corresponding probability for 2$\\sigma$ (i.e., blue lines) is 95%. The probability to find $x$ outside the blue lines is only 5%. And of course the total area under the curve is 1 (100%).\n",
    "\n",
    "Now you will run the program again but with your chosen values for the mean and standard deviation. Therefore, first remove the single **#** signs standing in front of every line in the program below (written below the line starting with: ## Calculate normal distribution (Exercise)), and then change the mean and standard deviation, and replot the curve by pressing **Shift-Enter** simultaneously."
   ]
  },
  {
   "cell_type": "code",
   "execution_count": null,
   "metadata": {},
   "outputs": [],
   "source": [
    "# Import important python libraries\n",
    "import matplotlib.pyplot as plt\n",
    "import numpy as np\n",
    "%matplotlib inline\n",
    "\n",
    "# Calculate normal distribution\n",
    "mu      = 173.0\n",
    "sigma   = 10.0\n",
    "x, step = np.linspace(mu-5*sigma, mu+5*sigma, num=1000, retstep=True)\n",
    "norm    = 1./(sigma*np.sqrt(np.pi*2))\n",
    "s1      = np.exp(-0.5*(1.0)**2)\n",
    "s2      = np.exp(-0.5*(2.0)**2)\n",
    "gauss   = norm*np.exp(-0.5*((x-mu)/sigma)**2)\n",
    "\n",
    "# Plot normal distribution\n",
    "fig1, ax = plt.subplots(1, figsize=(6,4))\n",
    "ax.plot(x,gauss,'k',lw=2)\n",
    "ax.plot([mu,mu],[0.0,norm],'g--' )\n",
    "ax.plot([mu+sigma,mu+sigma],[0,norm*s1],'r--')\n",
    "ax.plot([mu-sigma,mu-sigma],[0,norm*s1],'r--')\n",
    "ax.plot([mu+2*sigma,mu+2*sigma],[0,norm*s2],'b--')\n",
    "ax.plot([mu-2*sigma,mu-2*sigma],[0,norm*s2],'b--')\n",
    "ax.set_ylabel('pdf')\n",
    "ax.set_xlabel('x')\n",
    "ax.set_title('Normal distribution')\n",
    "print(\"Area under the curve: %6.2f\"%(gauss.sum()*step))\n",
    "\n",
    "## Calculate normal distribution (Exercise)\n",
    "#mu_exercise      = 110.0\n",
    "#sigma_exercise   = 50.0\n",
    "#x_exercise, step_exercise = np.linspace(mu_exercise-5*sigma_exercise, \n",
    "#                                        mu_exercise+5*sigma_exercise, num=1000, retstep=True)\n",
    "#norm_exercise    = 1./(sigma_exercise*np.sqrt(np.pi*2))\n",
    "#s1_exercise      = np.exp(-0.5*(1.0)**2)\n",
    "#s2_exercise      = np.exp(-0.5*(2.0)**2)\n",
    "#gauss_exercise   = norm_exercise*np.exp(-0.5*((x_exercise-mu_exercise)/sigma_exercise)**2)\n",
    "\n",
    "#fig2, ax = plt.subplots(1, figsize=(6,4))\n",
    "#ax.plot(x_exercise,gauss_exercise,'k',lw=2)\n",
    "#ax.plot([mu_exercise,mu_exercise],[0.0,norm_exercise],'g--' )\n",
    "#ax.plot([mu_exercise+sigma_exercise,mu_exercise+sigma_exercise],[0,norm_exercise*s1_exercise],'r--')\n",
    "#ax.plot([mu_exercise-sigma_exercise,mu_exercise-sigma_exercise],[0,norm_exercise*s1_exercise],'r--')\n",
    "#ax.plot([mu_exercise+2*sigma_exercise,mu_exercise+2*sigma_exercise],[0,norm_exercise*s2_exercise],'b--')\n",
    "#ax.plot([mu_exercise-2*sigma_exercise,mu_exercise-2*sigma_exercise],[0,norm_exercise*s2_exercise],'b--')\n",
    "#ax.set_ylabel('pdf')\n",
    "#ax.set_xlabel('x')\n",
    "#ax.set_title('Normal distribution (exercise)')\n",
    "#print(\"Area under the curve (exercise): %6.2f\"%(gauss.sum()*step))"
   ]
  },
  {
   "cell_type": "markdown",
   "metadata": {},
   "source": [
    "### Question 2.1: How does the plot change if we change the mean and the standard deviation?\n",
    "- how does the mean change?\n",
    "- how does the width of the distribution change?\n",
    "- how does the peak value change?\n",
    "- explain why your answers are logical.\n",
    "\n",
    "**Your answer is:**"
   ]
  },
  {
   "cell_type": "markdown",
   "metadata": {},
   "source": [
    "### Question 2.2: Inspect the Python code: How and where is the area under the curve calculated?\n",
    "\n",
    "**Your answer is:**"
   ]
  },
  {
   "cell_type": "markdown",
   "metadata": {},
   "source": [
    "The GPM model assumes that the concentration distributions (in the vertical and crosswind directions), downwind of a point emission source have the shape of a Gaussian dsitribution. So lets look at the formulation of the GPM."
   ]
  },
  {
   "cell_type": "markdown",
   "metadata": {},
   "source": [
    "### 3 The Gaussian Plume Equation\n",
    "\n",
    "Now we will use the Gaussian function in the plume model. We consider the coordinate system as shown in Figure 2.\n",
    "\n",
    "<br>\n",
    "<div align=center>\n",
    "<figure>\n",
    "  <img src=\"Figure2.png\", width=\"400\" height=\"300\">\n",
    "  <figcaption> <i>Figure 2: Coordinate system of a Gaussian plume model</i></figcaption>\n",
    "</figure>\n",
    "</div>\n",
    "\n",
    "The pollutant enters the atmosphere in the source at height $H_e$ (stack height plus plume rise). The stack is located at $x=y=0$ m. The wind $u$ blows in the $+x$ direction. As you can see, the plume-spread in the $y$ and $z$ directions (gray shading) is described by Gaussian concentration profiles. Further characteristics of the Gaussian Plume are:\n",
    "\n",
    "* The horizontal and vertical width of the plume is described by $\\sigma_y$ and $\\sigma_z$.\n",
    "* Depending on the atmospheric stability, $\\sigma_y$ and $\\sigma_z$ can have different values.\n",
    "* The parameters $\\sigma_y$ and $\\sigma_z$ depend on $x$: the further downwind, the wider the Gaussian dsitribution.\n",
    "* Since the Gaussian curve is normalized to 1, mass in the total mass inside the plume is conserved: when the plume becomes wider, the concentrations will become smaller.\n",
    "\n",
    "The latter property implies that in every $yz$-cross-section along the $+x$ direction the same amount of plume exhaust passes and the following relation holds: \n",
    "\n",
    "$$ \\int_y \\int_z C\\ u\\ dy\\ dz = Q \\;\\;\\;\\;\\;\\; (Eq. 2)$$\n",
    "\n",
    "Here $Q$ is the source strength (in kg/s), $C$ is the atmospheric concentration (in kg/m$^3$) and $u$ is the windspeed (in m/s). Note that the variable $u$ is assumed to be constant over the domain and thus we can place it before the integral. \n",
    "\n",
    "The Gaussian plume model equation reads:\n",
    "\n",
    "$$ C(x,y,z) = \\frac{Q}{2 \\pi\\,\\sigma_y\\,\\sigma_z\\, u}{\\rm exp}\\left(-\\frac{y^2}{2\\,\\sigma_y^2}\\right)\n",
    "{\\rm exp}\\left(-\\frac{(z-H)^2}{2\\, \\sigma_z^2}\\right)\\;\\;\\;\\;\\;\\; (Eq. 3)$$\n",
    "\n",
    "You can verify that the atmospheric concentration $C$ at location $x, y, z$ is a function of the source strength ($Q$), effective stack height ($H$), wind ($u$), $y$, $z$, $\\sigma_y$, and $\\sigma_z$. As we saw in Figure 2, these latter two $\\sigma$ values depend on $x$. The relation between $\\sigma$ and $x$ depends on the stability of the atmosphere, which will be discussed next. "
   ]
  },
  {
   "cell_type": "markdown",
   "metadata": {},
   "source": [
    "### Question 3.1: What are the units of concentration C in eq. 3?\n",
    "The units of Q are kg s$^{-1}$, x, y and H are in m.\n",
    "\n",
    "**Your answer is:**"
   ]
  },
  {
   "cell_type": "markdown",
   "metadata": {},
   "source": [
    "### 4 Influence of the atmospheric stability\n",
    "\n",
    "Atmospheric stability describes the thermal layering of the atmosphere. This will be explained in detail in a later lecture, but here the concept will be already be introduced.\n",
    "\n",
    "At **night**, the coldest air is near the surface, because the surface cools the air via emission of longwave (IR) radiation. Since colder air is denser, it is difficult to lift the surface air higher into the atmosphere. As a result, the atmosphere is **stable**: it is difficult to mix air vertically.\n",
    "\n",
    "During the **day**, the sun heats the earth's surface with solar radiation. The surface heats the lower air layers, which become warmer and expands. The expanded air is less dense and has a tendency to rise up, while the colder air above it sinks towards the surface. As a result, the atmosphere is constantly mixed by turbulent motions. In this situation, we call the atmosphere **unstable**. In practise, the situation is more complex, but for now this explanation suffices.\n",
    "\n",
    "The static stability of the atmosphere strongly determines the dispersion of air polutants. In an unstable boundary layer, plumes are constantly moved up and down by rising and sinking motions. In contrast, mixing is strongly reduced in a stable boundary layer (e.g., at night, with low winds). Figure 3 shows how plumes can behave as a function of the temperature profile in the lower atmosphere. Looping, coning, and fanning occur during respectively unstable, neutral, and stable conditions. Note that the lower three panels exhibit temperature jumps near the top of the boundary layer. Remember also that stacks are often build to release (dangerous or smelly) air pollutants at higher altitudes!\n",
    "\n",
    "<br>\n",
    "<div align=center>\n",
    "<figure>\n",
    "  <img src=\"Stability.png\", width=\"800\" height=\"600\">\n",
    "  <figcaption> <i>Figure 3: Plumes from a strack under different stabilities of the atmosphere. Note how the plume becomes wider in more unstable situations.</i></figcaption>\n",
    "</figure>\n",
    "</div>    \n",
    "\n",
    "Much research has been devoted to establish relations between the parameters $\\sigma_y$ and $\\sigma_z$ and the atmospheric stability. In general, relations take the form:\n",
    "\n",
    "$$\\sigma_y = Fx^f \\;\\;\\;\\;\\;\\; (Eq.4)$$\n",
    "$$\\sigma_z = Gx^g \\;\\;\\;\\;\\;\\; (Eq.5)$$\n",
    "\n",
    "In this equation, the parameters $F$, $G$, $f$ and $g$ depend on the stability. Today we will use parameters that are listed in Table 1.\n",
    "\n",
    "<table>\n",
    "  <caption>Table 1: Gaussian plume dispersion parameters for different atmospheric stability classes.</caption>\n",
    "<tr>\n",
    "<th>Stability</th>\n",
    "<th>F</th>\n",
    "<th>f</th>\n",
    "<th>G</th>\n",
    "<th>g</th>   \n",
    "</tr>\n",
    "<tr>\n",
    "<td>Stable</td>\n",
    "<td>0.31</td>\n",
    "<td>0.71</td>\n",
    "<td>0.06</td>\n",
    "<td>0.71</td>\n",
    "</tr>\n",
    "<tr>\n",
    "<td>Neutral</td>\n",
    "<td>0.32</td>\n",
    "<td>0.78</td>\n",
    "<td>0.22</td>\n",
    "<td>0.78</td>\n",
    "</tr>\n",
    "<tr>\n",
    "<td>Unstable</td>\n",
    "<td>0.40</td>\n",
    "<td>0.91</td>\n",
    "<td>0.41</td>\n",
    "<td>0.91</td>\n",
    "</tr>\n",
    "</table>"
   ]
  },
  {
   "cell_type": "markdown",
   "metadata": {},
   "source": [
    "### Exercise 4:  Atmospheric stability\n",
    "\n",
    "In this exercise, we will look at the different atmospheric stability classes. \n"
   ]
  },
  {
   "cell_type": "markdown",
   "metadata": {},
   "source": [
    "### Question 4.1: What is the value of $\\sigma_y$ and $\\sigma_z$ at $x=1000$ m for three stability classes? Use the eqs. 4 and 5 and the parameter values in table 1.\n",
    "\n",
    "**Your answer is:**"
   ]
  },
  {
   "cell_type": "markdown",
   "metadata": {},
   "source": [
    "### Question 4.2: What are the units of $\\sigma$?\n",
    "\n",
    "**Your answer is:**"
   ]
  },
  {
   "cell_type": "markdown",
   "metadata": {},
   "source": [
    "### Question 4.3: How large are the differences in $\\sigma_y$ and $\\sigma_z$ and how will this affect the concentrations in the plume (see figure 3)?\n",
    "\n",
    "**Your answer is:**"
   ]
  },
  {
   "cell_type": "markdown",
   "metadata": {},
   "source": [
    "### 5 Applying the Gaussian Plume Model\n",
    "\n",
    "The following cell contains a program to run the Gaussian Plume model. It can be fully operated with sliders and drop down menus. You can set the main parameters of the GPM and determine the concentration at a receptor point (i.e., a house downwind of a stack). Moreover, $y-z$, $x-z$, and $x-y$ concentration cross-sections will be plotted. \n",
    "Activate the program by selecting the cell below and press **Shift-Enter**. Note that you should press **calculate** after changing a parameter value.\n"
   ]
  },
  {
   "cell_type": "code",
   "execution_count": null,
   "metadata": {
    "scrolled": false
   },
   "outputs": [],
   "source": [
    "from plot_gauss import *\n",
    "pg = plot_gauss(1)"
   ]
  },
  {
   "cell_type": "markdown",
   "metadata": {},
   "source": [
    "### Exercise 5: Using the Gaussian Plume model\n",
    "\n",
    "Before you answer some questions, write down the concentration $C$ in the receptor point positioned at ($x,y,z$) = (3000, 0, 50) m and the values for $Q$, $H$, and $u$."
   ]
  },
  {
   "cell_type": "markdown",
   "metadata": {},
   "source": [
    "### Question 5.1: Verify the cross-section plots. Does the concentration value $C$ obtained using the program match the concentration value obtained analytically, i.e., using the GPM equation (Eq. 3)?\n",
    "\n",
    "**Your answer is:**"
   ]
  },
  {
   "cell_type": "markdown",
   "metadata": {},
   "source": [
    "### Question 5.2: Based on the GPM equation (Eq. 3), what will happen to the concentration $C$ when you double the wind-speed? Can you explain why the concentration changes that way when the wind speed doubles?\n",
    "\n",
    "**Your answer is:**"
   ]
  },
  {
   "cell_type": "markdown",
   "metadata": {},
   "source": [
    "### Question 5.3: What will happen to the concentration $C$ when you double the source strength? Validate your answer by performing an experiment.\n",
    "\n",
    "**Your answer is:**"
   ]
  },
  {
   "cell_type": "markdown",
   "metadata": {},
   "source": [
    "### Question 5.4: The term $\\int_y\\int_z C\\ u\\ dy\\ dz$ is printed above the figure. Is the value equal to the source strength (See Eq. 2)? Explain?\n",
    "\n",
    "**Your answer is:**\n",
    "\n",
    "Note that this will be in detail the subject of the next section."
   ]
  },
  {
   "cell_type": "markdown",
   "metadata": {},
   "source": [
    "### Question 5.5: How much will the concentration in the receptor point change when you change the stability to \"neutral\" and to \"stable\"? How does the plume shape change and what happens to $\\sigma_y$ and $\\sigma_z$ when you change the stability? Explain the relation between the concentration and the height+width of the plume. Show that you understand.\n",
    "\n",
    "**Your answer is:**"
   ]
  },
  {
   "cell_type": "markdown",
   "metadata": {},
   "source": [
    "### Question 5.6: In a stable atmosphere, what should be the height of the stack to bring the surface concentration  at ($x,z$) = (3000, 0) m below 1 $\\mu$g/m$^3$? Use $Q$ = 200 kg s$^{-1}$ and $u$ = 5 m s$^{-1}$.\n",
    "\n",
    "**Your answer is:**\n",
    "\n",
    "*Note: put the value in the chat as \"The stack height is ...m\" .*"
   ]
  },
  {
   "cell_type": "markdown",
   "metadata": {},
   "source": [
    "### Question 5.7: Imagine that a factory only gets a permit for the emission of a particular gas if the concentrations at the university downwind, at a distance ($x,y,z$) = (2000 ,100 ,2 ) m remains lower than 100 μg m$^3$. The stack height H = 50 m, wind speed u = 5 m s$^{-1}$.\n",
    "\n",
    "Find the maximum allowed source strength Q under:\n",
    "1.\tunstable,\n",
    "1.\tneutral and\n",
    "1.\tstable conditions\n",
    "1.\tComplete the following sentences:<br>\n",
    "    ‘Under (unstable / neutral / stable) conditions the mixing is so slow that the plume blows over the university without touching the ground.’ <br>\n",
    "    ‘Under (unstable / neutral / stable) conditions, the mixing is so good that the concentrations are low everywhere.’<br>\n",
    "    ‘Under (unstable / neutral / stable) conditions, the atmosphere mixes enough for the plume to touch the ground, but not enough to have low concentrations.’<br>\n"
   ]
  },
  {
   "cell_type": "markdown",
   "metadata": {},
   "source": [
    "### 6 Plume reflection\n",
    "In the previous assignment, we sometimes \"missed\" part of the emitted material. This happens when the plume hits the Earth surface. The mathematical formulations does not \"know\" about the ground and simply extends the plume below the surface. That is where the missing material went, but it was not shown!\n",
    "Only if the emitted compound is very reactive to the Earth surface (e.g. by efficient uptake), this might be a good approximation. However, mathematically it is easy to reflect the plume at the surface, as is illustrated in Figure 4.\n",
    "\n",
    "<br>\n",
    "<div align=center>\n",
    "<figure>\n",
    "  <img src=\"Figure4.png\", width=\"600\" height=\"400\">\n",
    "  <figcaption> <i>Figure 4: Concept of a plume reflecting at the surface.</i></figcaption>\n",
    "</figure>\n",
    "</div> \n",
    " \n",
    "This \"reflection term\" can be easily added to the formula:\n",
    "\n",
    "$$ C(x,y,z) = \\frac{Q}{2\\pi\\sigma_y\\sigma_zu}{\\rm exp}\\left(-\\frac{y^2}{2\\sigma_y^2}\\right)\n",
    "\\left( {\\rm exp}\\left(-\\frac{(z-H)^2}{2\\sigma_z^2}\\right) +\n",
    "{\\rm exp}\\left(-\\frac{(z+H)^2}{2\\sigma_z^2}\\right)\\right) \\;\\;\\;\\;\\; (Eq.6)\n",
    "$$\n",
    "\n",
    "As you can verify, an extra Gaussian term is added in the $z$-direction. In the following program, this plume reflection has been activated. "
   ]
  },
  {
   "cell_type": "markdown",
   "metadata": {},
   "source": [
    "### Exercise 6: The Gaussian Plume Model + the reflection term\n",
    "\n",
    "The following cell contains a program to run the Guassian Plume model where the reflection term is included. Activate the program by selecting the cell followed by **Shift-Enter**."
   ]
  },
  {
   "cell_type": "code",
   "execution_count": null,
   "metadata": {},
   "outputs": [],
   "source": [
    "from plot_gauss import *\n",
    "pg = plot_gauss(2)"
   ]
  },
  {
   "cell_type": "markdown",
   "metadata": {},
   "source": [
    "### Question 6.1: Does the integral $\\int_y\\int_z C\\ u\\ dy\\ dz$ equal the source strength $Q$ when accounting for reflection at the surface? And after changing $Q$?\n",
    "\n",
    "**Your answer is:**"
   ]
  },
  {
   "cell_type": "markdown",
   "metadata": {},
   "source": [
    "### Question 6.2: What is the  concentration enhancement at ($x,y,z)$ = (1000, 10, 90) m in unstable, neutral, and stable atmospheric conditions when a stack with a height of 90 m emits 5 kg CO$_2$ per second? The wind speed is 8 m s$^{-1}$.\n",
    "\n",
    "**Your answer is:**"
   ]
  },
  {
   "cell_type": "markdown",
   "metadata": {},
   "source": [
    "### Question 6.3: What is the  concentration enhancement at ($x,y,z$) = (1000, 10, 0) m in unstable, neutral, and stable atmospheric conditions when a stack with a height of 90 m emits 5 kg CO$_2$ per second? The wind speed is 8 m/s.\n",
    "\n",
    "**Your answer is:**"
   ]
  },
  {
   "cell_type": "markdown",
   "metadata": {},
   "source": [
    "### Question 6.4: Can you explain the differences between the questions 6.2 and 6.3?\n",
    "\n",
    "Discuss your conclusion based on 1D plots (activate the 1D tickbox).\n",
    "\n",
    "**Your answer is:**"
   ]
  },
  {
   "cell_type": "markdown",
   "metadata": {},
   "source": [
    "### 7 The line source\n",
    "\n",
    "The final extension we make is to consider a line source. Roads are an important example of line sources. In the line source model the unit of emission changes to kg/(ms): the emission of pollutants (e.g., NO) per second and **per m road**. This emission can be deduced from the traffic density. The line source is placed along the $y$-axis. As a result, dispersion in the y-direction disappears from the Gaussan plume model:\n",
    "\n",
    "\n",
    "$$ C(x,y,z) = \\frac{Q}{\\sqrt{2\\pi}\\sigma_zu}\n",
    "\\left( {\\rm exp}\\left(-\\frac{(z-H)^2}{2\\sigma_z^2}\\right) +\n",
    "{\\rm exp}\\left(-\\frac{(z+H)^2}{2\\sigma_z^2}\\right)\\right)\n",
    "$$"
   ]
  },
  {
   "cell_type": "markdown",
   "metadata": {},
   "source": [
    "### Exercise 7: The line source in the Gaussian Plume Model\n",
    "\n",
    "In the following program, we will work with a line source. We will consider receptor points that are located downwind of a highway. Advanced options have been activated that allow for adapting the calculation grid. Note that surface reflection is still activated. Activate the program by selecting the cell followed by **Shift-Enter**"
   ]
  },
  {
   "cell_type": "code",
   "execution_count": null,
   "metadata": {
    "scrolled": true
   },
   "outputs": [],
   "source": [
    "from plot_gauss import *\n",
    "pg = plot_gauss(3)"
   ]
  },
  {
   "cell_type": "markdown",
   "metadata": {},
   "source": [
    "### Question 7.1: Can you verify the units of the line source model and check if the intregral $\\int_z C\\ u\\ dz$ equals the source strength $Q$?\n",
    "\n",
    "**Your answer is:**"
   ]
  },
  {
   "cell_type": "markdown",
   "metadata": {},
   "source": [
    "### Question 7.2: How does the concentration at ($x,z$) = (1000, 2) m depend on the atmospheric stability?\n",
    "\n",
    "**Your answer is:**"
   ]
  },
  {
   "cell_type": "markdown",
   "metadata": {},
   "source": []
  }
 ],
 "metadata": {
  "kernelspec": {
   "display_name": "Python 3",
   "language": "python",
   "name": "python3"
  },
  "language_info": {
   "codemirror_mode": {
    "name": "ipython",
    "version": 3
   },
   "file_extension": ".py",
   "mimetype": "text/x-python",
   "name": "python",
   "nbconvert_exporter": "python",
   "pygments_lexer": "ipython3",
   "version": "3.7.3"
  }
 },
 "nbformat": 4,
 "nbformat_minor": 2
}
