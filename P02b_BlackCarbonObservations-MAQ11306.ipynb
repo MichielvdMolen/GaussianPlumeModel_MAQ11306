{
 "cells": [
  {
   "cell_type": "markdown",
   "metadata": {},
   "source": [
    "# P02b: Black Carbon observations\n",
    "\n",
    "## 1. Background\n",
    "Particulate matter (PM) or aerosol in the atmosphere has a large variety of sources. Particles can be organic (skin cells, plant material, bacteria, fungi, pollen) and inorganic (sand, copper, sea salt, ammonium / nitrate aerosols). Aerosol are related to visibility, health, acidification and eutrophication, erosion, etc.. As such they affect air quality. One of the lectures in the Air Quality course is dedicated to better understanding the characteristics of aerosol and the associated processes. \n",
    "\n",
    "## 2.\tObjective\n",
    "In this practical you will study the concentration of particulate matter emitted by a series of torches. By combining the measurements with the Gaussian Plume model (P01) you will be able to back calculate the concentrations to the source strength. The objective of the practical is that you learn to interpret the measurements, and that you learn to identify measurement errors and deal with them.\n",
    "\n",
    "## 3. Experiment setup\n",
    "<br>\n",
    "<div align=center>\n",
    "<figure>\n",
    "  <img src=\"ExperimentSetup.jpg\", width=\"400px\" height=\"300px\">\n",
    "  <figcaption> <i>Figure 1: The experimental setup</i></figcaption>\n",
    "</figure>\n",
    "</div>\n",
    "<br>\n",
    "On the WUR campus, between Forum and Atlas, an experiment was performed to measure black carbon concentrations downwind from a line source (Figure 1). 22 torches were positioned 40 cm apart in a row and lighted. The torches were 1.3 m tall. In this way, a line source mimicked black carbon emissions from a road. The experiment was carried out in the afternoon of 5 September 2017. The wind speed variable, was 1 – 4 m s$^{-1}$, on average 2 m s$^{-1}$. Although the direction of the line source was intended to be perpendicular to the wind direction, the wind direction in reality varied between 0 and 90 ° with an average of 30 °. The sky was partly cloudy, turning the atmosphere weakly unstable.\n",
    "\n",
    "<div align=center>\n",
    "<figure>\n",
    "  <img src=\"Dylos.jpg\", width=\"150px\"height=\"200px\">\n",
    "  <figcaption> <i>Figure 2: The Dylos DC1700 handheld, battery operated Air Quality Monitor.</i></figcaption>\n",
    "</figure>\n",
    "</div>\n",
    "<br>\n",
    "Downwind from the line source, the concentrations of particulate matter were measured with 12 Dylos DC1700 Air Quality Monitors (http://www.dylosproducts.com/dc1700.html, Figure 2). The instruments were installed on small stools at an height of 0.7 m. One instrument was placed upwind from the line source, to measure the particulate matter concentrations in the background wind. The other 11 instruments were placed at 0.25, 0.60, 1.00, 1.50, 2.00, 2.75, 3.50, 4.50, 5.50, 7.00 and 8.50 m downwind from the line source. The distances between the sensors is increasing with distance from the source. This is because further away from the source, the concentrations do not change as fast anymore. \n",
    "The experiment consisted of 3 phases:\n",
    "\n",
    "1. An initial background experiment (20 minutes from 15:24:10 to 15:43:50) when the setup was completed, but the torches not yet lighted. In this phase, the sensors measure the background concentration. The data in this phase may be used to inspect if the sensors measure the same concentrations, or if some have offsets.\n",
    "2. The experimental phase (30 minutes from 15:55:00 to 16:27:00) when the torches were lighted. The first few minutes were removed from the data, because some torches produced much more black carbon than later on. In this phase, the downwind sensors measured the background concentrations + the additional concentrations emitted by the torches.\n",
    "3. A final background experiment (6 minutes from 16:32:00 to 16:38:20) after the torches were extuinguished. In this phase, all torches measure the background concentration again.\n",
    "\n",
    "The Dylos particle counters measure particle numbers every 10 seconds in two size categories: small particles, i.e. all particles with a diameter larger than 0.5 μm and large particles, i.e. all particles with a diameter larger than 2.5 μm. The particles are measured as number densities # m$^{-3}$, although in the output, this is converted to 1e6 particles m$^{-3}$. 1 particle ft$^{-3}$ corresponds to 35.3 particles m$^{-3}$.\n",
    "\n",
    "## 3. Exercises\n",
    "To gain experience with particulate matter measurements you will investigate how the PM concentration changes downwind from the line source of black carbon. In Practical P02 Gaussian Plume Model you learned that the concentration of black carbon is highest close to the source and decreases with the distance from the source. In this practical you will test whether the observed concentrations behave like you simulated them with the Gaussian plume model, and you will use the change in concentrations to estimate the source strength. The practical will give you an idea about how many particles are emitted by torches and how this relates to emission by heavy-duty diesel trucks.\n",
    "\n",
    "---\n",
    "Load the data into the notebook by executing the cell below (*SHIFT* + *ENTER*)."
   ]
  },
  {
   "cell_type": "code",
   "execution_count": null,
   "metadata": {},
   "outputs": [],
   "source": [
    "# --- Import data from PM_Torches.xlsx\n",
    "import csv\n",
    "import datetime\n",
    "import xlrd\n",
    "import numpy as np\n",
    "\n",
    "# --- Set distances and experiments\n",
    "distances   = ['bg','0.25 m','0.60 m','1.00 m','1.50 m', '2.00 m', '2.75 m', '3.50 m', '4.50 m', '5.50 m', '7.00 m', '8.50 m']\n",
    "experiments = ['bg1','exp','bg2']\n",
    "\n",
    "# --- Read infile\n",
    "BC          = dict()\n",
    "infilename  = 'PM_Torches.xlsx'\n",
    "infile      = xlrd.open_workbook(infilename,'r')\n",
    "\n",
    "for distance in distances:\n",
    "    sheet   = infile.sheet_by_name(distance)\n",
    "    nrows   = sheet.nrows-1\n",
    "    ncols   = 6\n",
    "    data    = np.zeros((nrows,ncols))*np.nan\n",
    "\n",
    "    for j in range(ncols):\n",
    "        for i in range(nrows): \n",
    "            data[i,j] = sheet.cell_value(i+1, j)\n",
    "\n",
    "    BC[distance,'bg1'] = data[data[:,1]==1]\n",
    "    BC[distance,'exp'] = data[data[:,1]==2]\n",
    "    BC[distance,'bg2'] = data[data[:,1]==3]\n",
    "    \n",
    "        "
   ]
  },
  {
   "cell_type": "markdown",
   "metadata": {},
   "source": [
    "Now plot the concentrations during the background experiments by executing the cell below."
   ]
  },
  {
   "cell_type": "code",
   "execution_count": null,
   "metadata": {},
   "outputs": [],
   "source": [
    "# --- Background experiments 1 and 2: do all sensors measure the same background concentration? \n",
    "# --- Or are there offsets between the instruments?\n",
    "import matplotlib.pyplot as plt\n",
    "\n",
    "f0 = plt.figure(1,figsize=(20,8))\n",
    "ax = f0.add_subplot(111)\n",
    "\n",
    "for experiment in ('bg1','bg2'):\n",
    "    for distance in distances:\n",
    "        t        = BC[distance,experiment][:,3]*24\n",
    "        BC_small = BC[distance,experiment][:,4]\n",
    "\n",
    "        ax.plot(t,BC_small)\n",
    "ax.legend(distances)\n",
    "ax.set_xlabel('time (decimal h)')\n",
    "ax.set_ylabel('[BC] (1e6 #/m3)')\n",
    "ax.set_title('Torches not lit')and plot the concentrations during the background experiments by executing the next cell below"
   ]
  },
  {
   "cell_type": "markdown",
   "metadata": {},
   "source": [
    "## Exercise 8: Inspecting the data during the background experiments.\n",
    "Before and after the real experiment, the instruments were measuring, but the torches were not lit. The instruments must have measured the same background concentrations. Let us investigate if this is indeed the case. Inspect the figure above which shows the concentrations measured during the background experiments.\n",
    "\n",
    "What do you observe in this figure? Are the background concentrations constant over time? Do all instruments measure the same background concentration? Can you explain?"
   ]
  },
  {
   "cell_type": "markdown",
   "metadata": {},
   "source": [
    "**Your answer is:**"
   ]
  },
  {
   "cell_type": "markdown",
   "metadata": {},
   "source": [
    "---\n",
    "Now, let us inspect the concentrations during the real experiment. Execute the cell below to show them."
   ]
  },
  {
   "cell_type": "code",
   "execution_count": null,
   "metadata": {},
   "outputs": [],
   "source": [
    "# --- Experiment with torches lit: what do you see in the variability?\n",
    "# -- 0.25 m and 0.60 m have small concentrations and small variability: they are below the plume\n",
    "# -- 1-5 m have larger concentrations and large variability: the plume sometimes touches the instruments, but not all the time\n",
    "# -- 6-9 m have lower concentrations and lower variability: better mixed\n",
    "# would be nice if we could do this figure with tick boxes to select the distances.\n",
    "import matplotlib.pyplot as plt\n",
    "\n",
    "f1 = plt.figure(1,figsize=(20,8))\n",
    "ax = f1.add_subplot(111)\n",
    "\n",
    "\n",
    "experiment = 'exp'\n",
    "for distance in distances:\n",
    "    t        = BC[distance,experiment][:,3]*24\n",
    "    BC_small = BC[distance,experiment][:,4]\n",
    "    ax.plot(t,BC_small)\n",
    "ax.legend(distances)\n",
    "ax.set_xlabel('time (decimal h)')\n",
    "ax.set_ylabel('[BC] (1e6 #/m3)')\n",
    "ax.set_title('Torches lit')\n"
   ]
  },
  {
   "cell_type": "markdown",
   "metadata": {},
   "source": [
    "## Exercise 9: Explaining variability\n",
    "\n",
    "The figure above shows time series of the concentrations measured at different distances from the source. The table summarises the time series as mean and standard deviation.\n",
    "1. How do the mean concentrations change with distance from the line source?\n",
    "1. How does the variability in the concentrations change with distance from the source?\n",
    "1. Can you explain the means and variability in terms of wind direction, wind speed and distance from the source?"
   ]
  },
  {
   "cell_type": "markdown",
   "metadata": {},
   "source": [
    "---\n",
    "Execute the cell below to make a figure with the mean concentration as a function of distance from the source."
   ]
  },
  {
   "cell_type": "code",
   "execution_count": null,
   "metadata": {},
   "outputs": [],
   "source": [
    "# --- Plot concentration averaged over time as a function of distance from the source\n",
    "\n",
    "f4 = plt.figure(4,figsize=(20,8))\n",
    "\n",
    "\n",
    "x          = [-1, 0.25, 0.60, 1.0, 1.5, 2.0, 2.75, 3.5, 4.5, 5.5, 7.0, 8.5]\n",
    "nx         = len(x)\n",
    "C          = np.ones( nx)*np.nan\n",
    "sC         = np.ones( nx)*np.nan\n",
    "offset     = np.zeros(nx)\n",
    "\n",
    "for experiment in ('exp','bg1','bg2'):\n",
    "\n",
    "    # --- Compute means and stdevs for each experiment\n",
    "    ix       = -1\n",
    "    for dist in distances:\n",
    "        ix += 1\n",
    "        C[ ix] = BC[dist,experiment][:,4].mean()\n",
    "        sC[ix] = BC[dist,experiment][:,4].std()\n",
    "\n",
    "    # --- Store means and stdevs for the real experiment and compute the offset from the bg-experiments.\n",
    "    if experiment == 'exp': \n",
    "        Cx     = C.copy()\n",
    "        sCx    = sC.copy()\n",
    "    else:\n",
    "        offset = offset + C/2.\n",
    "\n",
    "    # --- Output as figure.    \n",
    "    isubplot = 2 if experiment == 'exp' else 1\n",
    "    if not experiment == 'bg2': \n",
    "        ax = f4.add_subplot(1,3,isubplot)\n",
    "    ax.errorbar(x,C,yerr=sC,label=experiment)\n",
    "    ax.set_ylim([0,25])\n",
    "    ax.set_xlabel('distance (m)',   fontsize=12)\n",
    "    ax.set_ylabel('[BC] (1e6 #/m3)',fontsize=12)\n",
    "    if experiment in ('bg1','bg2'):\n",
    "        ax.set_title('mean and std [BC] during background experiments 1 and 2', fontsize=12)\n",
    "    else:\n",
    "        ax.set_title('mean and std [BC] during experiment with torches lit',    fontsize=12)\n",
    "    if experiment == 'bg2': ax.legend(fontsize=12)\n",
    "        \n",
    "ax = f4.add_subplot(1,3,3)\n",
    "ax.errorbar(x,Cx-offset,yerr=sCx)\n",
    "ax.set_ylim([0,25])\n",
    "ax.set_xlabel('distance (m)',fontsize=12)\n",
    "ax.set_ylabel('[BC] (1e6 #/m3)',fontsize=12)\n",
    "ax.set_title('mean and std [BC] during experiment with torches lit, offset removed',fontsize=12)"
   ]
  },
  {
   "cell_type": "markdown",
   "metadata": {},
   "source": [
    "## Exercise 10: Accounting for offset\n",
    "The left figure above shows the mean concentrations at each distance during the background experiment. This represents the true background concentration (which should be identical at each distance) plus some variation caused by instrument differences (offset). \n",
    "1. How large do you estimate the true background concentration and how large the contribution from instrument differences?\n",
    "\n",
    "The middle figure shows the observed concentration as a function of distance from the source during the experiment when the \n",
    "torches were lit. \n",
    "2. Are the background concentration and the instrument offsets a large component of the total concentrations during the experiment?\n",
    "\n",
    "The right figure shows the concentrations during the real experiment, but with the background concentrations and offsets removed.\n",
    "3. Do you think these concentrations represent concentrations, which reliably show the concentrations added by the line source? Name a few pros and cons. \n",
    "\n",
    "4. The line source is 21 * 0.4 m = 8.4 m wide. Do you think the sensors furthest away from the line source are still exposed to the plume? Does this depend on wind direction? If there is an error, will it the observations be lower or higher than expected?"
   ]
  },
  {
   "cell_type": "markdown",
   "metadata": {},
   "source": [
    "---\n",
    "## Exercise 11.\n",
    "The cell below will make a comparison between the observations and the Gaussian Plume model. \n",
    "- Review the settings of u, z, H, and stability (check with the information supplied in section 3: Experment Setup).\n",
    "- The only thing we do not know, is the source strength. Adjust the source strength in such a way, that the observed and modelled concentration match in the best possible way. \n",
    "- Note that there is nothing wrong with adjusting the source strength. In fact this is a rather powerful way to estimate the source strength. Direct measurements of source strengths from e.g. roads are difficult to do. Instead, you could measure concentrations and wind speed and use the GPM to estimate the source strength indirectly. This is a simple application of a technique called inverse modelling.\n",
    "\n",
    "Answer the following questions:\n",
    "\n",
    "1. What happens with the estimated source strength if the wind speed would have been 3 m s$^{-1}$?\n",
    "1. Do you trust the observations at each distance equally much? Or would you assign observations at some distances more reliability than others? Explain why (not)?  Remember your answers to Exercise 10. How much could this affect the estimated source strength?"
   ]
  },
  {
   "cell_type": "code",
   "execution_count": null,
   "metadata": {},
   "outputs": [],
   "source": [
    "# --- Compare model and observations. \n",
    "# --- Adjust source strength Q to get the model's concentrations as close as possible to the observations\n",
    "\n",
    "# --- Settings\n",
    "u         = 2.0        # m/s     wind speed\n",
    "z         = 0.7        # m       height at which the concentration is calculated (should be same as observation height)\n",
    "H         = 1.3        # m       emission height\n",
    "stability = 'unstable' # Choose between 'stable', 'neutral', 'unstable'\n",
    "Q         = 250e6     # particles/(m s) Source strength\n",
    "\n",
    "# Formulation of GPM (line source, reflection)\n",
    "if stability == 'unstable':\n",
    "    G,g   = 0.41, 0.91\n",
    "elif stability == 'neutral':\n",
    "    G,g   = 0.22, 0.78\n",
    "else:\n",
    "    G,g   = 0.06, 0.71\n",
    "x_mod     = np.arange(0.1,10,0.1) # m distance from the source\n",
    "sigma_z   = G * np.power(x_mod,g)\n",
    "C_mod     = Q/(2 * np.pi * u * sigma_z) * (np.exp(-0.5 * np.square( (z-H)/sigma_z) + np.exp( -0.5 * np.square( (z+H)/sigma_z) )))\n",
    "\n",
    "# --- Output figure\n",
    "f6        = plt.figure(6, figsize=(20,8))\n",
    "ax        = f6.add_subplot(111)\n",
    "ax.errorbar(x,Cx-offset,yerr=sCx)\n",
    "ax.plot(x_mod,C_mod*1e-6)\n",
    "ax.set_ylim([0,25])\n",
    "ax.legend(['model','observations'],fontsize=12)\n",
    "ax.set_xlabel('x (m)',fontsize=12)\n",
    "ax.set_ylabel('[BC] (1e6 #/m3)',fontsize=12)"
   ]
  },
  {
   "cell_type": "markdown",
   "metadata": {},
   "source": [
    "---\n",
    "## Exercise 12. Comparing the emissions from the torches to those from Diesel cars\n",
    "The EU has set emission standards for the emission of gasses and particulate matter from vehicles. The Euro-6 standard is the newest standard and is effective from September 2014. Black carbon is regulated as part of PM$_{10}$. The Euro-6 standard for the emission of PM$_{10}$ from (diesel and petrol) passenger cars and light commercial vehicles (<3500 kg) 6×10$^{11}$ particles km$^{-1}$ vehicle$^{-1}$.\n",
    "\n",
    "1. How many passenger vehicles should pass per second on a road to have the same source strength as the line source of torches? Show how you retrieved your answer? Is your answer realistic? Present a clear derivation and mention and check the units.\n",
    "1. Are the torches dirty or are the cars clean?"
   ]
  },
  {
   "cell_type": "markdown",
   "metadata": {},
   "source": [
    "## Exercise 13. Reflection\n",
    "Reflect on the combined Gaussian plume model and Black carbon measurement practicals. \n",
    "\n",
    "- What do you need to think of when planning an observational experiment?\n",
    "- Which aspects interested you most? \n",
    "- What did you learn?\n",
    "- Are there parts that you would like to study in further detail? \n",
    "- Were the working methods suitable? \n",
    "- Also reflect on the quality of your work, what are strengths and weaknesses.\n",
    "\n",
    "Make an effort to meet the quality standards for the practical reports as listed in the Introduction of the MAQ11306 Practical Manual. Show that you understand what you have been working on. Submit your report.\n"
   ]
  },
  {
   "cell_type": "code",
   "execution_count": null,
   "metadata": {},
   "outputs": [],
   "source": []
  }
 ],
 "metadata": {
  "kernelspec": {
   "display_name": "Python 3",
   "language": "python",
   "name": "python3"
  },
  "language_info": {
   "codemirror_mode": {
    "name": "ipython",
    "version": 3
   },
   "file_extension": ".py",
   "mimetype": "text/x-python",
   "name": "python",
   "nbconvert_exporter": "python",
   "pygments_lexer": "ipython3",
   "version": "3.7.3"
  }
 },
 "nbformat": 4,
 "nbformat_minor": 2
}
